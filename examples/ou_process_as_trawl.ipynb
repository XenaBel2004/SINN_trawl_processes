{
 "cells": [
  {
   "cell_type": "code",
   "execution_count": 1,
   "id": "57b5f129-2920-4ab1-ab1d-74ceac2526cf",
   "metadata": {},
   "outputs": [],
   "source": [
    "import torch\n",
    "from torch import Tensor\n",
    "\n",
    "from ambitsinn import GaussianTrawlProcess, OUProcess"
   ]
  },
  {
   "cell_type": "code",
   "execution_count": 2,
   "id": "b9762188-2712-453d-8812-8d13bb9d5c60",
   "metadata": {},
   "outputs": [],
   "source": [
    "def ou_process_mean(process: OUProcess) -> float:\n",
    "    return process.mu.item()\n",
    "\n",
    "\n",
    "def ou_process_var(process: OUProcess) -> float:\n",
    "    return (process.sigma**2 / (2 * process.lambda_)).item()\n",
    "\n",
    "\n",
    "def ou_process_acf(x: Tensor, process: OUProcess) -> Tensor:\n",
    "    return torch.exp(-process.lambda_ * x)"
   ]
  },
  {
   "cell_type": "code",
   "execution_count": 3,
   "id": "62864db4-81bd-43cf-af98-ce6f8e6a44ec",
   "metadata": {},
   "outputs": [],
   "source": [
    "mu: float = 0.0\n",
    "sigma: float = 0.5\n",
    "lambda_: float = 2.0"
   ]
  },
  {
   "cell_type": "code",
   "execution_count": 4,
   "id": "86b04034-ba14-4aeb-81a6-8fa2ae387445",
   "metadata": {},
   "outputs": [],
   "source": [
    "process = OUProcess(mu, sigma, lambda_)\n",
    "\n",
    "\n",
    "def process_acf(x: Tensor) -> Tensor:\n",
    "    return ou_process_acf(x, process)\n",
    "\n",
    "\n",
    "trawl_representation = GaussianTrawlProcess(\n",
    "    process_acf,\n",
    "    ou_process_mean(process),\n",
    "    ou_process_var(process),\n",
    ")"
   ]
  },
  {
   "cell_type": "code",
   "execution_count": 5,
   "id": "20d7e85d-4920-4cf1-8319-16b17c2a61e4",
   "metadata": {},
   "outputs": [
    {
     "name": "stdout",
     "output_type": "stream",
     "text": [
      "Differnece in PDF:  0.0\n",
      "Differnece in ACF:  0.0\n",
      "Differnece in cumulant:  4.76837158203125e-07\n"
     ]
    }
   ],
   "source": [
    "x = torch.linspace(-5.0, 5.0, 1000)\n",
    "print(\"Differnece in PDF: \", torch.max((process.pdf(x) - trawl_representation.pdf(x)).abs()).item())\n",
    "\n",
    "times = torch.linspace(0, 10, 1000)\n",
    "print(\"Differnece in ACF: \", torch.max((process.acf(times) - trawl_representation.acf(times)).abs()).item())\n",
    "\n",
    "times = torch.linspace(0, 1, 25)\n",
    "theta = torch.empty(100, 25).uniform_(-2.0, 2.0)\n",
    "print(\n",
    "    \"Differnece in cumulant: \",\n",
    "    torch.max((process.cumulant(theta, times) - trawl_representation.cumulant(theta, times)).abs()).item(),\n",
    ")"
   ]
  }
 ],
 "metadata": {
  "kernelspec": {
   "display_name": "Python 3 (ipykernel)",
   "language": "python",
   "name": "python3"
  },
  "language_info": {
   "codemirror_mode": {
    "name": "ipython",
    "version": 3
   },
   "file_extension": ".py",
   "mimetype": "text/x-python",
   "name": "python",
   "nbconvert_exporter": "python",
   "pygments_lexer": "ipython3",
   "version": "3.13.6"
  }
 },
 "nbformat": 4,
 "nbformat_minor": 5
}
