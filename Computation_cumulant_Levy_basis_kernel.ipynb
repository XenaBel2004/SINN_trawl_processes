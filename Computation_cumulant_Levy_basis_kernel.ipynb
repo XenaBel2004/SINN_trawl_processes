{
  "nbformat": 4,
  "nbformat_minor": 0,
  "metadata": {
    "colab": {
      "provenance": []
    },
    "kernelspec": {
      "name": "python3",
      "display_name": "Python 3"
    },
    "language_info": {
      "name": "python"
    }
  },
  "cells": [
    {
      "cell_type": "code",
      "execution_count": null,
      "metadata": {
        "id": "injAgZd0WfPg"
      },
      "outputs": [],
      "source": [
        "import numpy as np"
      ]
    },
    {
      "cell_type": "code",
      "source": [
        "def flatten(xss):\n",
        "    return [x for xs in xss for x in xs]\n",
        "\n",
        "def compute_theta_cum(theta):\n",
        "  m = len(theta)\n",
        "  theta_cum = np.zeros((m, m))\n",
        "  for i in range(m):\n",
        "    for j in range(m):\n",
        "      theta_cum[i,j] = sum(theta[i:j])\n",
        "  return flatten(theta_cum)\n",
        "\n",
        "def compute_slices(t, G):\n",
        "  m = len(t)\n",
        "  A = np.zeros((m, m))\n",
        "  for i in range(m):\n",
        "    for j in range(m):\n",
        "      if i > j:\n",
        "        A[i,j] = 0\n",
        "      elif i > 0 and j < m - 1:\n",
        "        A[i, j] = -(\n",
        "          G(t[j + 1] - t[i]) - G(t[j + 1] - t[i - 1])\n",
        "          + G(t[j] - t[i - 1]) - G(t[j] - t[i])\n",
        "        )\n",
        "      elif i > 0 and j == m - 1:\n",
        "        A[i, j] = G(t[j] - t[i]) - G(t[j] - t[i - 1])\n",
        "      elif i == 0 and j < m - 1:\n",
        "        A[i, j] = G(t[j] - t[i]) - G(t[j + 1] - t[i])\n",
        "      elif i == 0 and j == m - 1:\n",
        "        A[i, j] = G(t[j] - t[i])\n",
        "  return flatten(A)\n",
        "\n",
        "def compute_char_func(times, theta, seed_cummulant, normalized_autocov):\n",
        "  theta_cum = compute_theta_cum(theta)\n",
        "  slice_leb = compute_slices(times, normalized_autocov)\n",
        "  cummulant = sum(leb * seed_cummulant(theta_c) for leb, theta_c in zip(slice_leb, theta_cum))\n",
        "  return np.exp(cummulant)"
      ],
      "metadata": {
        "id": "pGdLTvJWWnGS"
      },
      "execution_count": null,
      "outputs": []
    },
    {
      "cell_type": "code",
      "source": [
        "#test\n",
        "theta_j = np.array([0.5, -1.0, 0.8])\n",
        "phi = compute_char_func(np.array([1,2,3]), theta_j, lambda x: -x**2 / 2, lambda t: np.exp(-t))"
      ],
      "metadata": {
        "id": "xjoW3iG0Wih1"
      },
      "execution_count": null,
      "outputs": []
    }
  ]
}